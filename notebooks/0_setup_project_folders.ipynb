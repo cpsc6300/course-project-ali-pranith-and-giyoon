{
 "cells": [
  {
   "cell_type": "markdown",
   "metadata": {},
   "source": [
    "# Overview\n",
    "\n",
    "This notebook sets up the following directories for the final project.\n",
    "```\n",
    "project\n",
    "├── data\n",
    "├── LICENSE\n",
    "├── models\n",
    "├── notebooks\n",
    "│   └── 0_setup_project_folders.ipynb\n",
    "├── README.md\n",
    "├── report\n",
    "│   ├── interim.md\n",
    "│   ├── proposal.md\n",
    "│   └── report.md\n",
    "└── src\n",
    "```\n",
    "\n",
    "You are free to rename any the directory or add other directories. You can also switch the LICENSE to any other license type tha you prefer."
   ]
  },
  {
   "cell_type": "code",
   "execution_count": null,
   "metadata": {},
   "outputs": [],
   "source": [
    "import os\n",
    "\n",
    "basedir = os.path.dirname(os.getcwd())\n",
    "\n",
    "subdirs = ['src', 'data', 'models']\n",
    "for d in subdirs:\n",
    "    full_path = os.path.join(basedir, d)\n",
    "    if not os.path.exists(full_path):\n",
    "        os.makedirs(full_path)\n",
    "\n",
    "assert all([os.path.exists(os.path.join(basedir, d)) for d in subdirs])"
   ]
  },
  {
   "cell_type": "code",
   "execution_count": null,
   "metadata": {},
   "outputs": [],
   "source": [
    "!tree ../"
   ]
  }
 ],
 "metadata": {
  "kernelspec": {
   "display_name": "Python 3",
   "language": "python",
   "name": "python3"
  },
  "language_info": {
   "codemirror_mode": {
    "name": "ipython",
    "version": 3
   },
   "file_extension": ".py",
   "mimetype": "text/x-python",
   "name": "python",
   "nbconvert_exporter": "python",
   "pygments_lexer": "ipython3",
   "version": "3.8.3"
  }
 },
 "nbformat": 4,
 "nbformat_minor": 4
}
